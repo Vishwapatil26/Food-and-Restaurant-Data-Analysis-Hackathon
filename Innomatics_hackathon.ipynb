{
 "cells": [
  {
   "cell_type": "code",
   "execution_count": 25,
   "id": "f7aac055",
   "metadata": {},
   "outputs": [],
   "source": [
    "import warnings\n",
    "warnings.filterwarnings('ignore')"
   ]
  },
  {
   "cell_type": "code",
   "execution_count": 3,
   "id": "e97cfd9e",
   "metadata": {},
   "outputs": [],
   "source": [
    "import pandas as pd\n",
    "import numpy as np\n",
    "import folium\n",
    "import matplotlib.pyplot as plt\n",
    "import seaborn as sns\n",
    "from geopy.geocoders import Nominatim\n",
    "from geopy.exc import GeocoderTimedOut\n",
    "from IPython.display import display, HTML\n",
    "import time"
   ]
  },
  {
   "cell_type": "code",
   "execution_count": 4,
   "id": "38197d6d",
   "metadata": {},
   "outputs": [],
   "source": [
    "df1 = pd.read_csv(\"zomato_data.csv\")\n",
    "df2 = pd.read_csv(\"Geographical Coordinates.csv\")"
   ]
  },
  {
   "cell_type": "code",
   "execution_count": 6,
   "id": "0950b9af",
   "metadata": {},
   "outputs": [
    {
     "name": "stdout",
     "output_type": "stream",
     "text": [
      "<class 'pandas.core.frame.DataFrame'>\n",
      "RangeIndex: 51717 entries, 0 to 51716\n",
      "Data columns (total 10 columns):\n",
      " #   Column                     Non-Null Count  Dtype \n",
      "---  ------                     --------------  ----- \n",
      " 0   online_order               51717 non-null  object\n",
      " 1   book_table                 51717 non-null  object\n",
      " 2   rate                       43942 non-null  object\n",
      " 3   votes                      51717 non-null  int64 \n",
      " 4   rest_type                  51490 non-null  object\n",
      " 5   dish_liked                 23639 non-null  object\n",
      " 6   cuisines                   51672 non-null  object\n",
      " 7   approx_costfor_two_people  51371 non-null  object\n",
      " 8   listed_intype              51717 non-null  object\n",
      " 9   listed_incity              51717 non-null  object\n",
      "dtypes: int64(1), object(9)\n",
      "memory usage: 3.9+ MB\n"
     ]
    }
   ],
   "source": [
    "df1.info()"
   ]
  },
  {
   "cell_type": "code",
   "execution_count": 17,
   "id": "71b82e37",
   "metadata": {},
   "outputs": [
    {
     "data": {
      "text/html": [
       "<div>\n",
       "<style scoped>\n",
       "    .dataframe tbody tr th:only-of-type {\n",
       "        vertical-align: middle;\n",
       "    }\n",
       "\n",
       "    .dataframe tbody tr th {\n",
       "        vertical-align: top;\n",
       "    }\n",
       "\n",
       "    .dataframe thead th {\n",
       "        text-align: right;\n",
       "    }\n",
       "</style>\n",
       "<table border=\"1\" class=\"dataframe\">\n",
       "  <thead>\n",
       "    <tr style=\"text-align: right;\">\n",
       "      <th></th>\n",
       "      <th>online_order</th>\n",
       "      <th>book_table</th>\n",
       "      <th>rate</th>\n",
       "      <th>votes</th>\n",
       "      <th>rest_type</th>\n",
       "      <th>dish_liked</th>\n",
       "      <th>cuisines</th>\n",
       "      <th>approx_costfor_two_people</th>\n",
       "      <th>listed_intype</th>\n",
       "      <th>listed_incity</th>\n",
       "    </tr>\n",
       "  </thead>\n",
       "  <tbody>\n",
       "    <tr>\n",
       "      <th>0</th>\n",
       "      <td>Yes</td>\n",
       "      <td>Yes</td>\n",
       "      <td>4.1</td>\n",
       "      <td>775</td>\n",
       "      <td>Casual Dining</td>\n",
       "      <td>Pasta, Lunch Buffet, Masala Papad, Paneer Laja...</td>\n",
       "      <td>North Indian, Mughlai, Chinese</td>\n",
       "      <td>800</td>\n",
       "      <td>Buffet</td>\n",
       "      <td>Banashankari</td>\n",
       "    </tr>\n",
       "    <tr>\n",
       "      <th>1</th>\n",
       "      <td>Yes</td>\n",
       "      <td>No</td>\n",
       "      <td>4.1</td>\n",
       "      <td>787</td>\n",
       "      <td>Casual Dining</td>\n",
       "      <td>Momos, Lunch Buffet, Chocolate Nirvana, Thai G...</td>\n",
       "      <td>Chinese, North Indian, Thai</td>\n",
       "      <td>800</td>\n",
       "      <td>Buffet</td>\n",
       "      <td>Banashankari</td>\n",
       "    </tr>\n",
       "    <tr>\n",
       "      <th>2</th>\n",
       "      <td>Yes</td>\n",
       "      <td>No</td>\n",
       "      <td>3.8</td>\n",
       "      <td>918</td>\n",
       "      <td>Cafe, Casual Dining</td>\n",
       "      <td>Churros, Cannelloni, Minestrone Soup, Hot Choc...</td>\n",
       "      <td>Cafe, Mexican, Italian</td>\n",
       "      <td>800</td>\n",
       "      <td>Buffet</td>\n",
       "      <td>Banashankari</td>\n",
       "    </tr>\n",
       "    <tr>\n",
       "      <th>3</th>\n",
       "      <td>No</td>\n",
       "      <td>No</td>\n",
       "      <td>3.7</td>\n",
       "      <td>88</td>\n",
       "      <td>Quick Bites</td>\n",
       "      <td>Masala Dosa</td>\n",
       "      <td>South Indian, North Indian</td>\n",
       "      <td>300</td>\n",
       "      <td>Buffet</td>\n",
       "      <td>Banashankari</td>\n",
       "    </tr>\n",
       "    <tr>\n",
       "      <th>4</th>\n",
       "      <td>No</td>\n",
       "      <td>No</td>\n",
       "      <td>3.8</td>\n",
       "      <td>166</td>\n",
       "      <td>Casual Dining</td>\n",
       "      <td>Panipuri, Gol Gappe</td>\n",
       "      <td>North Indian, Rajasthani</td>\n",
       "      <td>600</td>\n",
       "      <td>Buffet</td>\n",
       "      <td>Banashankari</td>\n",
       "    </tr>\n",
       "  </tbody>\n",
       "</table>\n",
       "</div>"
      ],
      "text/plain": [
       "  online_order book_table rate  votes            rest_type  \\\n",
       "0          Yes        Yes  4.1    775        Casual Dining   \n",
       "1          Yes         No  4.1    787        Casual Dining   \n",
       "2          Yes         No  3.8    918  Cafe, Casual Dining   \n",
       "3           No         No  3.7     88          Quick Bites   \n",
       "4           No         No  3.8    166        Casual Dining   \n",
       "\n",
       "                                          dish_liked  \\\n",
       "0  Pasta, Lunch Buffet, Masala Papad, Paneer Laja...   \n",
       "1  Momos, Lunch Buffet, Chocolate Nirvana, Thai G...   \n",
       "2  Churros, Cannelloni, Minestrone Soup, Hot Choc...   \n",
       "3                                        Masala Dosa   \n",
       "4                                Panipuri, Gol Gappe   \n",
       "\n",
       "                         cuisines approx_costfor_two_people listed_intype  \\\n",
       "0  North Indian, Mughlai, Chinese                       800        Buffet   \n",
       "1     Chinese, North Indian, Thai                       800        Buffet   \n",
       "2          Cafe, Mexican, Italian                       800        Buffet   \n",
       "3      South Indian, North Indian                       300        Buffet   \n",
       "4        North Indian, Rajasthani                       600        Buffet   \n",
       "\n",
       "  listed_incity  \n",
       "0  Banashankari  \n",
       "1  Banashankari  \n",
       "2  Banashankari  \n",
       "3  Banashankari  \n",
       "4  Banashankari  "
      ]
     },
     "execution_count": 17,
     "metadata": {},
     "output_type": "execute_result"
    }
   ],
   "source": [
    "df1.head()"
   ]
  },
  {
   "cell_type": "code",
   "execution_count": 14,
   "id": "c2568a0d",
   "metadata": {},
   "outputs": [],
   "source": [
    "df1[\"rate\"] = df1[\"rate\"].str.replace(\"/5\",\"\")"
   ]
  },
  {
   "cell_type": "code",
   "execution_count": 22,
   "id": "8455ef36",
   "metadata": {},
   "outputs": [],
   "source": [
    "df1[\"rate\"] = df1[\"rate\"].replace(['-',\"NEW\"],np.nan)"
   ]
  },
  {
   "cell_type": "code",
   "execution_count": 23,
   "id": "46a47cc9",
   "metadata": {},
   "outputs": [],
   "source": [
    "df1[\"rate\"] = pd.to_numeric(df1[\"rate\"])"
   ]
  },
  {
   "cell_type": "code",
   "execution_count": 26,
   "id": "67eb7009",
   "metadata": {},
   "outputs": [],
   "source": [
    "df1[\"rate\"].fillna(df1[\"rate\"].median(), inplace=True)"
   ]
  },
  {
   "cell_type": "code",
   "execution_count": 34,
   "id": "73a3d44f",
   "metadata": {},
   "outputs": [
    {
     "name": "stdout",
     "output_type": "stream",
     "text": [
      "0\n"
     ]
    }
   ],
   "source": [
    "print(df1['rate'].isnull().sum())"
   ]
  },
  {
   "cell_type": "code",
   "execution_count": 35,
   "id": "13c4ee2e",
   "metadata": {},
   "outputs": [],
   "source": [
    "df1['approx_costfor_two_people'] = df1['approx_costfor_two_people'].astype(str).str.replace(',', '')\n"
   ]
  },
  {
   "cell_type": "code",
   "execution_count": 36,
   "id": "a4ec7d6d",
   "metadata": {},
   "outputs": [],
   "source": [
    "df1['approx_costfor_two_people'] = df1['approx_costfor_two_people'].replace('nan', np.nan)"
   ]
  },
  {
   "cell_type": "code",
   "execution_count": 37,
   "id": "a94946aa",
   "metadata": {},
   "outputs": [],
   "source": [
    "df1['approx_costfor_two_people'] = pd.to_numeric(df1['approx_costfor_two_people'])"
   ]
  },
  {
   "cell_type": "code",
   "execution_count": 38,
   "id": "ffffd234",
   "metadata": {},
   "outputs": [],
   "source": [
    "df1['approx_costfor_two_people'].fillna(df1['approx_costfor_two_people'].median, inplace=True)"
   ]
  },
  {
   "cell_type": "code",
   "execution_count": 39,
   "id": "394dce28",
   "metadata": {},
   "outputs": [
    {
     "name": "stdout",
     "output_type": "stream",
     "text": [
      "0\n"
     ]
    }
   ],
   "source": [
    "print(df1['approx_costfor_two_people'].isnull().sum())"
   ]
  },
  {
   "cell_type": "code",
   "execution_count": 46,
   "id": "3d95b04c",
   "metadata": {},
   "outputs": [],
   "source": [
    "df1[\"dish_liked\"].fillna(\"Not Available\", inplace=True)\n",
    "df1[\"cuisines\"].fillna(\"Other\",inplace=True)\n",
    "df1[\"rest_type\"].fillna(\"Unknown\",inplace=True)"
   ]
  },
  {
   "cell_type": "code",
   "execution_count": 49,
   "id": "64153810",
   "metadata": {},
   "outputs": [],
   "source": [
    "df1[\"votes\"].fillna(df1[\"votes\"].median,inplace=True)"
   ]
  },
  {
   "cell_type": "code",
   "execution_count": 51,
   "id": "234643f6",
   "metadata": {},
   "outputs": [
    {
     "name": "stdout",
     "output_type": "stream",
     "text": [
      "0\n"
     ]
    }
   ],
   "source": [
    "print(df1['votes'].isnull().sum())"
   ]
  },
  {
   "cell_type": "code",
   "execution_count": 52,
   "id": "ee19eb8e",
   "metadata": {},
   "outputs": [],
   "source": [
    "binary ={\"Yes\":1, \"No\":0}\n",
    "df1[\"online_order\"] = df1[\"online_order\"].map(binary)\n",
    "df1[\"book_table\"] = df1[\"book_table\"].map(binary)"
   ]
  },
  {
   "cell_type": "code",
   "execution_count": 61,
   "id": "4098db00",
   "metadata": {},
   "outputs": [],
   "source": [
    "df1[\"rate\"]=df1[\"rate\"].astype(float)\n",
    "df1[\"votes\"]=df1[\"votes\"].astype(int)\n",
    "df1[\"approx_costfor_two_people\"]=df1[\"approx_costfor_two_people\"].astype(int)"
   ]
  },
  {
   "cell_type": "code",
   "execution_count": 56,
   "id": "96a50242",
   "metadata": {},
   "outputs": [],
   "source": [
    "df1['approx_costfor_two_people'] = df1['approx_costfor_two_people'].replace('nan', np.nan)\n"
   ]
  },
  {
   "cell_type": "code",
   "execution_count": 62,
   "id": "50a486a7",
   "metadata": {},
   "outputs": [
    {
     "name": "stdout",
     "output_type": "stream",
     "text": [
      "0\n"
     ]
    }
   ],
   "source": [
    "print(df1.isnull().sum().sum())\n"
   ]
  },
  {
   "cell_type": "code",
   "execution_count": 63,
   "id": "cbe958c8",
   "metadata": {},
   "outputs": [
    {
     "data": {
      "text/html": [
       "<div>\n",
       "<style scoped>\n",
       "    .dataframe tbody tr th:only-of-type {\n",
       "        vertical-align: middle;\n",
       "    }\n",
       "\n",
       "    .dataframe tbody tr th {\n",
       "        vertical-align: top;\n",
       "    }\n",
       "\n",
       "    .dataframe thead th {\n",
       "        text-align: right;\n",
       "    }\n",
       "</style>\n",
       "<table border=\"1\" class=\"dataframe\">\n",
       "  <thead>\n",
       "    <tr style=\"text-align: right;\">\n",
       "      <th></th>\n",
       "      <th>online_order</th>\n",
       "      <th>book_table</th>\n",
       "      <th>rate</th>\n",
       "      <th>votes</th>\n",
       "      <th>approx_costfor_two_people</th>\n",
       "    </tr>\n",
       "  </thead>\n",
       "  <tbody>\n",
       "    <tr>\n",
       "      <th>count</th>\n",
       "      <td>51717.000000</td>\n",
       "      <td>51717.000000</td>\n",
       "      <td>51717.000000</td>\n",
       "      <td>51717.000000</td>\n",
       "      <td>51717.000000</td>\n",
       "    </tr>\n",
       "    <tr>\n",
       "      <th>mean</th>\n",
       "      <td>0.588665</td>\n",
       "      <td>0.124698</td>\n",
       "      <td>3.700362</td>\n",
       "      <td>283.697527</td>\n",
       "      <td>554.391689</td>\n",
       "    </tr>\n",
       "    <tr>\n",
       "      <th>std</th>\n",
       "      <td>0.492080</td>\n",
       "      <td>0.330379</td>\n",
       "      <td>0.395391</td>\n",
       "      <td>803.838853</td>\n",
       "      <td>437.563723</td>\n",
       "    </tr>\n",
       "    <tr>\n",
       "      <th>min</th>\n",
       "      <td>0.000000</td>\n",
       "      <td>0.000000</td>\n",
       "      <td>1.800000</td>\n",
       "      <td>0.000000</td>\n",
       "      <td>40.000000</td>\n",
       "    </tr>\n",
       "    <tr>\n",
       "      <th>25%</th>\n",
       "      <td>0.000000</td>\n",
       "      <td>0.000000</td>\n",
       "      <td>3.500000</td>\n",
       "      <td>7.000000</td>\n",
       "      <td>300.000000</td>\n",
       "    </tr>\n",
       "    <tr>\n",
       "      <th>50%</th>\n",
       "      <td>1.000000</td>\n",
       "      <td>0.000000</td>\n",
       "      <td>3.700000</td>\n",
       "      <td>41.000000</td>\n",
       "      <td>400.000000</td>\n",
       "    </tr>\n",
       "    <tr>\n",
       "      <th>75%</th>\n",
       "      <td>1.000000</td>\n",
       "      <td>0.000000</td>\n",
       "      <td>3.900000</td>\n",
       "      <td>198.000000</td>\n",
       "      <td>650.000000</td>\n",
       "    </tr>\n",
       "    <tr>\n",
       "      <th>max</th>\n",
       "      <td>1.000000</td>\n",
       "      <td>1.000000</td>\n",
       "      <td>4.900000</td>\n",
       "      <td>16832.000000</td>\n",
       "      <td>6000.000000</td>\n",
       "    </tr>\n",
       "  </tbody>\n",
       "</table>\n",
       "</div>"
      ],
      "text/plain": [
       "       online_order    book_table          rate         votes  \\\n",
       "count  51717.000000  51717.000000  51717.000000  51717.000000   \n",
       "mean       0.588665      0.124698      3.700362    283.697527   \n",
       "std        0.492080      0.330379      0.395391    803.838853   \n",
       "min        0.000000      0.000000      1.800000      0.000000   \n",
       "25%        0.000000      0.000000      3.500000      7.000000   \n",
       "50%        1.000000      0.000000      3.700000     41.000000   \n",
       "75%        1.000000      0.000000      3.900000    198.000000   \n",
       "max        1.000000      1.000000      4.900000  16832.000000   \n",
       "\n",
       "       approx_costfor_two_people  \n",
       "count               51717.000000  \n",
       "mean                  554.391689  \n",
       "std                   437.563723  \n",
       "min                    40.000000  \n",
       "25%                   300.000000  \n",
       "50%                   400.000000  \n",
       "75%                   650.000000  \n",
       "max                  6000.000000  "
      ]
     },
     "execution_count": 63,
     "metadata": {},
     "output_type": "execute_result"
    }
   ],
   "source": [
    "df1.describe()"
   ]
  },
  {
   "cell_type": "code",
   "execution_count": 64,
   "id": "5c8e11df",
   "metadata": {},
   "outputs": [
    {
     "name": "stdout",
     "output_type": "stream",
     "text": [
      "<class 'pandas.core.frame.DataFrame'>\n",
      "RangeIndex: 51717 entries, 0 to 51716\n",
      "Data columns (total 10 columns):\n",
      " #   Column                     Non-Null Count  Dtype  \n",
      "---  ------                     --------------  -----  \n",
      " 0   online_order               51717 non-null  int64  \n",
      " 1   book_table                 51717 non-null  int64  \n",
      " 2   rate                       51717 non-null  float64\n",
      " 3   votes                      51717 non-null  int32  \n",
      " 4   rest_type                  51717 non-null  object \n",
      " 5   dish_liked                 51717 non-null  object \n",
      " 6   cuisines                   51717 non-null  object \n",
      " 7   approx_costfor_two_people  51717 non-null  int32  \n",
      " 8   listed_intype              51717 non-null  object \n",
      " 9   listed_incity              51717 non-null  object \n",
      "dtypes: float64(1), int32(2), int64(2), object(5)\n",
      "memory usage: 3.6+ MB\n"
     ]
    }
   ],
   "source": [
    "df1.info()"
   ]
  },
  {
   "cell_type": "code",
   "execution_count": 65,
   "id": "a80d787f",
   "metadata": {},
   "outputs": [],
   "source": [
    "merged_data = pd.merge(df1, df2, on='listed_incity', how='left')\n"
   ]
  },
  {
   "cell_type": "code",
   "execution_count": 66,
   "id": "8ad278a7",
   "metadata": {},
   "outputs": [
    {
     "data": {
      "text/html": [
       "<div>\n",
       "<style scoped>\n",
       "    .dataframe tbody tr th:only-of-type {\n",
       "        vertical-align: middle;\n",
       "    }\n",
       "\n",
       "    .dataframe tbody tr th {\n",
       "        vertical-align: top;\n",
       "    }\n",
       "\n",
       "    .dataframe thead th {\n",
       "        text-align: right;\n",
       "    }\n",
       "</style>\n",
       "<table border=\"1\" class=\"dataframe\">\n",
       "  <thead>\n",
       "    <tr style=\"text-align: right;\">\n",
       "      <th></th>\n",
       "      <th>online_order</th>\n",
       "      <th>book_table</th>\n",
       "      <th>rate</th>\n",
       "      <th>votes</th>\n",
       "      <th>rest_type</th>\n",
       "      <th>dish_liked</th>\n",
       "      <th>cuisines</th>\n",
       "      <th>approx_costfor_two_people</th>\n",
       "      <th>listed_intype</th>\n",
       "      <th>listed_incity</th>\n",
       "      <th>Latitude</th>\n",
       "      <th>Longitude</th>\n",
       "    </tr>\n",
       "  </thead>\n",
       "  <tbody>\n",
       "    <tr>\n",
       "      <th>0</th>\n",
       "      <td>1</td>\n",
       "      <td>1</td>\n",
       "      <td>4.1</td>\n",
       "      <td>775</td>\n",
       "      <td>Casual Dining</td>\n",
       "      <td>Pasta, Lunch Buffet, Masala Papad, Paneer Laja...</td>\n",
       "      <td>North Indian, Mughlai, Chinese</td>\n",
       "      <td>800</td>\n",
       "      <td>Buffet</td>\n",
       "      <td>Banashankari</td>\n",
       "      <td>12.939333</td>\n",
       "      <td>77.553982</td>\n",
       "    </tr>\n",
       "    <tr>\n",
       "      <th>1</th>\n",
       "      <td>1</td>\n",
       "      <td>0</td>\n",
       "      <td>4.1</td>\n",
       "      <td>787</td>\n",
       "      <td>Casual Dining</td>\n",
       "      <td>Momos, Lunch Buffet, Chocolate Nirvana, Thai G...</td>\n",
       "      <td>Chinese, North Indian, Thai</td>\n",
       "      <td>800</td>\n",
       "      <td>Buffet</td>\n",
       "      <td>Banashankari</td>\n",
       "      <td>12.939333</td>\n",
       "      <td>77.553982</td>\n",
       "    </tr>\n",
       "    <tr>\n",
       "      <th>2</th>\n",
       "      <td>1</td>\n",
       "      <td>0</td>\n",
       "      <td>3.8</td>\n",
       "      <td>918</td>\n",
       "      <td>Cafe, Casual Dining</td>\n",
       "      <td>Churros, Cannelloni, Minestrone Soup, Hot Choc...</td>\n",
       "      <td>Cafe, Mexican, Italian</td>\n",
       "      <td>800</td>\n",
       "      <td>Buffet</td>\n",
       "      <td>Banashankari</td>\n",
       "      <td>12.939333</td>\n",
       "      <td>77.553982</td>\n",
       "    </tr>\n",
       "    <tr>\n",
       "      <th>3</th>\n",
       "      <td>0</td>\n",
       "      <td>0</td>\n",
       "      <td>3.7</td>\n",
       "      <td>88</td>\n",
       "      <td>Quick Bites</td>\n",
       "      <td>Masala Dosa</td>\n",
       "      <td>South Indian, North Indian</td>\n",
       "      <td>300</td>\n",
       "      <td>Buffet</td>\n",
       "      <td>Banashankari</td>\n",
       "      <td>12.939333</td>\n",
       "      <td>77.553982</td>\n",
       "    </tr>\n",
       "    <tr>\n",
       "      <th>4</th>\n",
       "      <td>0</td>\n",
       "      <td>0</td>\n",
       "      <td>3.8</td>\n",
       "      <td>166</td>\n",
       "      <td>Casual Dining</td>\n",
       "      <td>Panipuri, Gol Gappe</td>\n",
       "      <td>North Indian, Rajasthani</td>\n",
       "      <td>600</td>\n",
       "      <td>Buffet</td>\n",
       "      <td>Banashankari</td>\n",
       "      <td>12.939333</td>\n",
       "      <td>77.553982</td>\n",
       "    </tr>\n",
       "  </tbody>\n",
       "</table>\n",
       "</div>"
      ],
      "text/plain": [
       "   online_order  book_table  rate  votes            rest_type  \\\n",
       "0             1           1   4.1    775        Casual Dining   \n",
       "1             1           0   4.1    787        Casual Dining   \n",
       "2             1           0   3.8    918  Cafe, Casual Dining   \n",
       "3             0           0   3.7     88          Quick Bites   \n",
       "4             0           0   3.8    166        Casual Dining   \n",
       "\n",
       "                                          dish_liked  \\\n",
       "0  Pasta, Lunch Buffet, Masala Papad, Paneer Laja...   \n",
       "1  Momos, Lunch Buffet, Chocolate Nirvana, Thai G...   \n",
       "2  Churros, Cannelloni, Minestrone Soup, Hot Choc...   \n",
       "3                                        Masala Dosa   \n",
       "4                                Panipuri, Gol Gappe   \n",
       "\n",
       "                         cuisines  approx_costfor_two_people listed_intype  \\\n",
       "0  North Indian, Mughlai, Chinese                        800        Buffet   \n",
       "1     Chinese, North Indian, Thai                        800        Buffet   \n",
       "2          Cafe, Mexican, Italian                        800        Buffet   \n",
       "3      South Indian, North Indian                        300        Buffet   \n",
       "4        North Indian, Rajasthani                        600        Buffet   \n",
       "\n",
       "  listed_incity   Latitude  Longitude  \n",
       "0  Banashankari  12.939333  77.553982  \n",
       "1  Banashankari  12.939333  77.553982  \n",
       "2  Banashankari  12.939333  77.553982  \n",
       "3  Banashankari  12.939333  77.553982  \n",
       "4  Banashankari  12.939333  77.553982  "
      ]
     },
     "execution_count": 66,
     "metadata": {},
     "output_type": "execute_result"
    }
   ],
   "source": [
    "merged_data.head()"
   ]
  },
  {
   "cell_type": "code",
   "execution_count": null,
   "id": "bfbb9c6a",
   "metadata": {},
   "outputs": [
    {
     "data": {
      "text/plain": [
       "(51717, 10)"
      ]
     },
     "execution_count": 67,
     "metadata": {},
     "output_type": "execute_result"
    }
   ],
   "source": [
    "df1.shape #1. What is the shape of the given dataset?"
   ]
  },
  {
   "cell_type": "code",
   "execution_count": null,
   "id": "614ac265",
   "metadata": {},
   "outputs": [
    {
     "data": {
      "text/plain": [
       "21085"
      ]
     },
     "execution_count": 69,
     "metadata": {},
     "output_type": "execute_result"
    }
   ],
   "source": [
    "north_indian_count = df1[df1['cuisines'].str.contains('North Indian', na=False)].shape[0] #2. How many restaurants serve North Indian cuisine?\n",
    "north_indian_count"
   ]
  },
  {
   "cell_type": "code",
   "execution_count": null,
   "id": "542c0c21",
   "metadata": {},
   "outputs": [
    {
     "data": {
      "text/plain": [
       "'North Indian'"
      ]
     },
     "execution_count": 70,
     "metadata": {},
     "output_type": "execute_result"
    }
   ],
   "source": [
    "common_cuisine = df1['cuisines'].str.split(', ').explode().value_counts().idxmax() #3. What cuisine is most commonly offered by restaurants in Bangalore?\n",
    "common_cuisine"
   ]
  },
  {
   "cell_type": "code",
   "execution_count": 71,
   "id": "585543c3",
   "metadata": {},
   "outputs": [
    {
     "data": {
      "text/plain": [
       "'Church Street'"
      ]
     },
     "execution_count": 71,
     "metadata": {},
     "output_type": "execute_result"
    }
   ],
   "source": [
    "highest_avg_cost_locality = df1.groupby('listed_incity')['approx_costfor_two_people'].mean().idxmax()\n",
    "highest_avg_cost_locality"
   ]
  },
  {
   "cell_type": "code",
   "execution_count": 77,
   "id": "b3c8265d",
   "metadata": {},
   "outputs": [
    {
     "data": {
      "text/plain": [
       "'Bakery'"
      ]
     },
     "execution_count": 77,
     "metadata": {},
     "output_type": "execute_result"
    }
   ],
   "source": [
    "high_vote = df1[df1['votes'] > 1000] #5. Which restaurant type has the top rating with over 1000 votes?\n",
    "top_restaurant_type = high_vote.groupby('rest_type')['rate'].mean().idxmax()\n",
    "top_restaurant_type"
   ]
  },
  {
   "cell_type": "code",
   "execution_count": 78,
   "id": "a44c6eeb",
   "metadata": {},
   "outputs": [
    {
     "data": {
      "text/plain": [
       "40"
      ]
     },
     "execution_count": 78,
     "metadata": {},
     "output_type": "execute_result"
    }
   ],
   "source": [
    "min_cost = df1['approx_costfor_two_people'].min() #6. How much does it cost at minimum to eat out in Bangalore?\n",
    "min_cost"
   ]
  },
  {
   "cell_type": "code",
   "execution_count": 79,
   "id": "be1a39dc",
   "metadata": {},
   "outputs": [
    {
     "name": "stdout",
     "output_type": "stream",
     "text": [
      "[ 800  300  600  700  550  500  450  650  400  900  200  750  150  850\n",
      "  100 1200  350  250  950 1000 1500 1300  199   80 1100  160 1600  230\n",
      "  130   50  190 1700 1400  180 1350 2200 2000 1800 1900  330 2500 2100\n",
      " 3000 2800 3400   40 1250 3500 4000 2400 2600  120 1450  469   70 3200\n",
      "   60  560  240  360 6000 1050 2300 4100 5000 3700 1650 2700 4500  140]\n"
     ]
    }
   ],
   "source": [
    "print(df1['approx_costfor_two_people'].unique())\n"
   ]
  },
  {
   "cell_type": "code",
   "execution_count": 80,
   "id": "a72763e8",
   "metadata": {},
   "outputs": [],
   "source": [
    "banashankari_orders = df1[(df1['listed_incity'] == 'Banashankari') & (df1['online_order'] == 1)]\n"
   ]
  },
  {
   "cell_type": "code",
   "execution_count": 81,
   "id": "36865b20",
   "metadata": {},
   "outputs": [
    {
     "data": {
      "text/plain": [
       "546"
      ]
     },
     "execution_count": 81,
     "metadata": {},
     "output_type": "execute_result"
    }
   ],
   "source": [
    "banashankari_online_count = banashankari_orders.shape[0]\n",
    "banashankari_online_count"
   ]
  },
  {
   "cell_type": "code",
   "execution_count": 83,
   "id": "e12521a2",
   "metadata": {},
   "outputs": [
    {
     "data": {
      "text/plain": [
       "30444"
      ]
     },
     "execution_count": 83,
     "metadata": {},
     "output_type": "execute_result"
    }
   ],
   "source": [
    "total_online_orders = df1[df1['online_order'] == 1].shape[0]\n",
    "total_online_orders"
   ]
  },
  {
   "cell_type": "code",
   "execution_count": null,
   "id": "b7253775",
   "metadata": {},
   "outputs": [
    {
     "data": {
      "text/plain": [
       "'Brookefield'"
      ]
     },
     "execution_count": 88,
     "metadata": {},
     "output_type": "execute_result"
    }
   ],
   "source": [
    "filtered_df = df1[(df1['votes'] > 500) & (df1['rate'] < 3.0)] #8. Which locality has the most restaurants with over 500 votes and a rating below 3.0?\n",
    "top_locality = filtered_df['listed_incity'].value_counts().idxmax()\n",
    "top_locality"
   ]
  },
  {
   "cell_type": "code",
   "execution_count": 89,
   "id": "556479d6",
   "metadata": {},
   "outputs": [
    {
     "data": {
      "text/plain": [
       "'BTM'"
      ]
     },
     "execution_count": 89,
     "metadata": {},
     "output_type": "execute_result"
    }
   ],
   "source": [
    "locality_diversity = df1.groupby('listed_incity')['rest_type'].nunique()\n",
    "\n",
    "best_expansion_locality = locality_diversity.idxmax()\n",
    "best_expansion_locality"
   ]
  },
  {
   "cell_type": "code",
   "execution_count": 100,
   "id": "66a9d1b5",
   "metadata": {},
   "outputs": [
    {
     "data": {
      "text/html": [
       "<div>\n",
       "<style scoped>\n",
       "    .dataframe tbody tr th:only-of-type {\n",
       "        vertical-align: middle;\n",
       "    }\n",
       "\n",
       "    .dataframe tbody tr th {\n",
       "        vertical-align: top;\n",
       "    }\n",
       "\n",
       "    .dataframe thead th {\n",
       "        text-align: right;\n",
       "    }\n",
       "</style>\n",
       "<table border=\"1\" class=\"dataframe\">\n",
       "  <thead>\n",
       "    <tr style=\"text-align: right;\">\n",
       "      <th></th>\n",
       "      <th>online_order</th>\n",
       "      <th>book_table</th>\n",
       "      <th>rate</th>\n",
       "      <th>votes</th>\n",
       "      <th>rest_type</th>\n",
       "      <th>dish_liked</th>\n",
       "      <th>cuisines</th>\n",
       "      <th>approx_costfor_two_people</th>\n",
       "      <th>listed_intype</th>\n",
       "      <th>listed_incity</th>\n",
       "    </tr>\n",
       "  </thead>\n",
       "  <tbody>\n",
       "    <tr>\n",
       "      <th>0</th>\n",
       "      <td>1</td>\n",
       "      <td>1</td>\n",
       "      <td>4.1</td>\n",
       "      <td>775</td>\n",
       "      <td>Casual Dining</td>\n",
       "      <td>Pasta, Lunch Buffet, Masala Papad, Paneer Laja...</td>\n",
       "      <td>North Indian, Mughlai, Chinese</td>\n",
       "      <td>800</td>\n",
       "      <td>Buffet</td>\n",
       "      <td>Banashankari</td>\n",
       "    </tr>\n",
       "    <tr>\n",
       "      <th>1</th>\n",
       "      <td>1</td>\n",
       "      <td>0</td>\n",
       "      <td>4.1</td>\n",
       "      <td>787</td>\n",
       "      <td>Casual Dining</td>\n",
       "      <td>Momos, Lunch Buffet, Chocolate Nirvana, Thai G...</td>\n",
       "      <td>Chinese, North Indian, Thai</td>\n",
       "      <td>800</td>\n",
       "      <td>Buffet</td>\n",
       "      <td>Banashankari</td>\n",
       "    </tr>\n",
       "    <tr>\n",
       "      <th>2</th>\n",
       "      <td>1</td>\n",
       "      <td>0</td>\n",
       "      <td>3.8</td>\n",
       "      <td>918</td>\n",
       "      <td>Cafe, Casual Dining</td>\n",
       "      <td>Churros, Cannelloni, Minestrone Soup, Hot Choc...</td>\n",
       "      <td>Cafe, Mexican, Italian</td>\n",
       "      <td>800</td>\n",
       "      <td>Buffet</td>\n",
       "      <td>Banashankari</td>\n",
       "    </tr>\n",
       "    <tr>\n",
       "      <th>3</th>\n",
       "      <td>0</td>\n",
       "      <td>0</td>\n",
       "      <td>3.7</td>\n",
       "      <td>88</td>\n",
       "      <td>Quick Bites</td>\n",
       "      <td>Masala Dosa</td>\n",
       "      <td>South Indian, North Indian</td>\n",
       "      <td>300</td>\n",
       "      <td>Buffet</td>\n",
       "      <td>Banashankari</td>\n",
       "    </tr>\n",
       "    <tr>\n",
       "      <th>4</th>\n",
       "      <td>0</td>\n",
       "      <td>0</td>\n",
       "      <td>3.8</td>\n",
       "      <td>166</td>\n",
       "      <td>Casual Dining</td>\n",
       "      <td>Panipuri, Gol Gappe</td>\n",
       "      <td>North Indian, Rajasthani</td>\n",
       "      <td>600</td>\n",
       "      <td>Buffet</td>\n",
       "      <td>Banashankari</td>\n",
       "    </tr>\n",
       "  </tbody>\n",
       "</table>\n",
       "</div>"
      ],
      "text/plain": [
       "   online_order  book_table  rate  votes            rest_type  \\\n",
       "0             1           1   4.1    775        Casual Dining   \n",
       "1             1           0   4.1    787        Casual Dining   \n",
       "2             1           0   3.8    918  Cafe, Casual Dining   \n",
       "3             0           0   3.7     88          Quick Bites   \n",
       "4             0           0   3.8    166        Casual Dining   \n",
       "\n",
       "                                          dish_liked  \\\n",
       "0  Pasta, Lunch Buffet, Masala Papad, Paneer Laja...   \n",
       "1  Momos, Lunch Buffet, Chocolate Nirvana, Thai G...   \n",
       "2  Churros, Cannelloni, Minestrone Soup, Hot Choc...   \n",
       "3                                        Masala Dosa   \n",
       "4                                Panipuri, Gol Gappe   \n",
       "\n",
       "                         cuisines  approx_costfor_two_people listed_intype  \\\n",
       "0  North Indian, Mughlai, Chinese                        800        Buffet   \n",
       "1     Chinese, North Indian, Thai                        800        Buffet   \n",
       "2          Cafe, Mexican, Italian                        800        Buffet   \n",
       "3      South Indian, North Indian                        300        Buffet   \n",
       "4        North Indian, Rajasthani                        600        Buffet   \n",
       "\n",
       "  listed_incity  \n",
       "0  Banashankari  \n",
       "1  Banashankari  \n",
       "2  Banashankari  \n",
       "3  Banashankari  \n",
       "4  Banashankari  "
      ]
     },
     "execution_count": 100,
     "metadata": {},
     "output_type": "execute_result"
    }
   ],
   "source": [
    "df1.head()"
   ]
  },
  {
   "cell_type": "code",
   "execution_count": 104,
   "id": "33a8ef6c",
   "metadata": {},
   "outputs": [
    {
     "data": {
      "text/plain": [
       "3.5919080217658412"
      ]
     },
     "execution_count": 104,
     "metadata": {},
     "output_type": "execute_result"
    }
   ],
   "source": [
    "north_chinese_restaurant = df1[df1['cuisines'].str.contains('North Indian') & df1['cuisines'].str.contains('Chinese', na=False)]\n",
    "\n",
    "average_rating = north_chinese_restaurant['rate'].mean()\n",
    "average_rating\n"
   ]
  },
  {
   "cell_type": "code",
   "execution_count": 105,
   "id": "bb1a5c78",
   "metadata": {},
   "outputs": [
    {
     "name": "stdout",
     "output_type": "stream",
     "text": [
      "Zomato should focus on improving the Dessert Parlor, Kiosk restaurant type, which has an average rating of 3.00\n"
     ]
    }
   ],
   "source": [
    "# Group by restaurant type and calculate the average rating for each type\n",
    "avg_rating_by_rest_type = df1.groupby('rest_type')['rate'].mean()\n",
    "\n",
    "# Find the restaurant type with the lowest average rating\n",
    "lowest_rating_rest_type = avg_rating_by_rest_type.idxmin()\n",
    "lowest_rating = avg_rating_by_rest_type.min()\n",
    "\n",
    "print(f\"Zomato should focus on improving the {lowest_rating_rest_type} restaurant type, which has an average rating of {lowest_rating:.2f}\")\n"
   ]
  },
  {
   "cell_type": "code",
   "execution_count": 108,
   "id": "b524054d",
   "metadata": {},
   "outputs": [
    {
     "data": {
      "text/html": [
       "<div>\n",
       "<style scoped>\n",
       "    .dataframe tbody tr th:only-of-type {\n",
       "        vertical-align: middle;\n",
       "    }\n",
       "\n",
       "    .dataframe tbody tr th {\n",
       "        vertical-align: top;\n",
       "    }\n",
       "\n",
       "    .dataframe thead th {\n",
       "        text-align: right;\n",
       "    }\n",
       "</style>\n",
       "<table border=\"1\" class=\"dataframe\">\n",
       "  <thead>\n",
       "    <tr style=\"text-align: right;\">\n",
       "      <th></th>\n",
       "      <th>online_order</th>\n",
       "      <th>book_table</th>\n",
       "      <th>rate</th>\n",
       "      <th>votes</th>\n",
       "      <th>rest_type</th>\n",
       "      <th>dish_liked</th>\n",
       "      <th>cuisines</th>\n",
       "      <th>approx_costfor_two_people</th>\n",
       "      <th>listed_intype</th>\n",
       "      <th>listed_incity</th>\n",
       "      <th>Latitude</th>\n",
       "      <th>Longitude</th>\n",
       "    </tr>\n",
       "  </thead>\n",
       "  <tbody>\n",
       "    <tr>\n",
       "      <th>2</th>\n",
       "      <td>1</td>\n",
       "      <td>0</td>\n",
       "      <td>3.8</td>\n",
       "      <td>918</td>\n",
       "      <td>Cafe, Casual Dining</td>\n",
       "      <td>Churros, Cannelloni, Minestrone Soup, Hot Choc...</td>\n",
       "      <td>Cafe, Mexican, Italian</td>\n",
       "      <td>800</td>\n",
       "      <td>Buffet</td>\n",
       "      <td>Banashankari</td>\n",
       "      <td>12.939333</td>\n",
       "      <td>77.553982</td>\n",
       "    </tr>\n",
       "    <tr>\n",
       "      <th>7</th>\n",
       "      <td>1</td>\n",
       "      <td>1</td>\n",
       "      <td>4.6</td>\n",
       "      <td>2556</td>\n",
       "      <td>Casual Dining, Cafe</td>\n",
       "      <td>Farmhouse Pizza, Chocolate Banana, Virgin Moji...</td>\n",
       "      <td>Pizza, Cafe, Italian</td>\n",
       "      <td>600</td>\n",
       "      <td>Cafes</td>\n",
       "      <td>Banashankari</td>\n",
       "      <td>12.939333</td>\n",
       "      <td>77.553982</td>\n",
       "    </tr>\n",
       "    <tr>\n",
       "      <th>8</th>\n",
       "      <td>1</td>\n",
       "      <td>0</td>\n",
       "      <td>4.0</td>\n",
       "      <td>324</td>\n",
       "      <td>Cafe</td>\n",
       "      <td>Pizza, Mocktails, Coffee, Nachos, Salad, Pasta...</td>\n",
       "      <td>Cafe, Italian, Continental</td>\n",
       "      <td>700</td>\n",
       "      <td>Cafes</td>\n",
       "      <td>Banashankari</td>\n",
       "      <td>12.939333</td>\n",
       "      <td>77.553982</td>\n",
       "    </tr>\n",
       "    <tr>\n",
       "      <th>9</th>\n",
       "      <td>1</td>\n",
       "      <td>0</td>\n",
       "      <td>4.2</td>\n",
       "      <td>504</td>\n",
       "      <td>Cafe</td>\n",
       "      <td>Waffles, Pasta, Coleslaw Sandwich, Choco Waffl...</td>\n",
       "      <td>Cafe, Mexican, Italian, Momos, Beverages</td>\n",
       "      <td>550</td>\n",
       "      <td>Cafes</td>\n",
       "      <td>Banashankari</td>\n",
       "      <td>12.939333</td>\n",
       "      <td>77.553982</td>\n",
       "    </tr>\n",
       "    <tr>\n",
       "      <th>11</th>\n",
       "      <td>1</td>\n",
       "      <td>1</td>\n",
       "      <td>4.2</td>\n",
       "      <td>150</td>\n",
       "      <td>Cafe</td>\n",
       "      <td>Mocktails, Peri Fries, Lasagne, Pizza, Chicken...</td>\n",
       "      <td>Cafe, Italian, Continental</td>\n",
       "      <td>600</td>\n",
       "      <td>Cafes</td>\n",
       "      <td>Banashankari</td>\n",
       "      <td>12.939333</td>\n",
       "      <td>77.553982</td>\n",
       "    </tr>\n",
       "  </tbody>\n",
       "</table>\n",
       "</div>"
      ],
      "text/plain": [
       "    online_order  book_table  rate  votes            rest_type  \\\n",
       "2              1           0   3.8    918  Cafe, Casual Dining   \n",
       "7              1           1   4.6   2556  Casual Dining, Cafe   \n",
       "8              1           0   4.0    324                 Cafe   \n",
       "9              1           0   4.2    504                 Cafe   \n",
       "11             1           1   4.2    150                 Cafe   \n",
       "\n",
       "                                           dish_liked  \\\n",
       "2   Churros, Cannelloni, Minestrone Soup, Hot Choc...   \n",
       "7   Farmhouse Pizza, Chocolate Banana, Virgin Moji...   \n",
       "8   Pizza, Mocktails, Coffee, Nachos, Salad, Pasta...   \n",
       "9   Waffles, Pasta, Coleslaw Sandwich, Choco Waffl...   \n",
       "11  Mocktails, Peri Fries, Lasagne, Pizza, Chicken...   \n",
       "\n",
       "                                    cuisines  approx_costfor_two_people  \\\n",
       "2                     Cafe, Mexican, Italian                        800   \n",
       "7                       Pizza, Cafe, Italian                        600   \n",
       "8                 Cafe, Italian, Continental                        700   \n",
       "9   Cafe, Mexican, Italian, Momos, Beverages                        550   \n",
       "11                Cafe, Italian, Continental                        600   \n",
       "\n",
       "   listed_intype listed_incity   Latitude  Longitude  \n",
       "2         Buffet  Banashankari  12.939333  77.553982  \n",
       "7          Cafes  Banashankari  12.939333  77.553982  \n",
       "8          Cafes  Banashankari  12.939333  77.553982  \n",
       "9          Cafes  Banashankari  12.939333  77.553982  \n",
       "11         Cafes  Banashankari  12.939333  77.553982  "
      ]
     },
     "execution_count": 108,
     "metadata": {},
     "output_type": "execute_result"
    }
   ],
   "source": [
    "# Keep only Italian restaurants\n",
    "italian_df = merged_data[merged_data['cuisines'].str.contains('Italian', na=False)]\n",
    "italian_df.head()\n"
   ]
  },
  {
   "cell_type": "code",
   "execution_count": 111,
   "id": "95adb608",
   "metadata": {},
   "outputs": [],
   "source": [
    "import folium\n",
    "from IPython.display import IFrame\n",
    "\n",
    "# Initialize map centered on Bangalore\n",
    "bangalore_map = folium.Map(location=[12.9716, 77.5946], zoom_start=12)\n",
    "\n",
    "# Add a purple marker for each Italian restaurant\n",
    "for index, row in italian_df.iterrows():\n",
    "    folium.Marker(\n",
    "        location=[row['Latitude'], row['Longitude']],\n",
    "        popup=f\"{row['listed_incity']}<br>{row['cuisines']}\",\n",
    "        icon=folium.Icon(color='purple')\n",
    "    ).add_to(bangalore_map)\n",
    "\n",
    "# Save the map\n",
    "bangalore_map.save(\"italian_restaurants_map.html\")\n"
   ]
  },
  {
   "cell_type": "code",
   "execution_count": 127,
   "id": "7d2c4371",
   "metadata": {},
   "outputs": [],
   "source": [
    "# Remove rows with missing Latitude or Longitude (since Folium can't plot them)\n",
    "merged_data = merged_data.dropna()\n"
   ]
  },
  {
   "cell_type": "code",
   "execution_count": 128,
   "id": "b30fe963",
   "metadata": {},
   "outputs": [],
   "source": [
    "# Add a marker for each restaurant\n",
    "for index, row in merged_data.iterrows():\n",
    "    folium.CircleMarker(\n",
    "        location=[row['Latitude'], row['Longitude']],\n",
    "        radius=3,\n",
    "        color='blue',\n",
    "        fill=True,\n",
    "        fill_color='blue',\n",
    "        fill_opacity=0.5,\n",
    "        popup=f\"{row['listed_incity']} - {row['cuisines']}\"\n",
    "    ).add_to(bangalore_map)\n"
   ]
  },
  {
   "cell_type": "code",
   "execution_count": 129,
   "id": "7346835a",
   "metadata": {},
   "outputs": [
    {
     "data": {
      "text/plain": [
       "Latitude     0\n",
       "Longitude    0\n",
       "dtype: int64"
      ]
     },
     "execution_count": 129,
     "metadata": {},
     "output_type": "execute_result"
    }
   ],
   "source": [
    "merged_data[['Latitude', 'Longitude']].isnull().sum()\n"
   ]
  },
  {
   "cell_type": "code",
   "execution_count": 131,
   "id": "e095d024",
   "metadata": {},
   "outputs": [],
   "source": [
    "# Save map to HTML file\n",
    "bangalore_map.save(\"restaurant_density.html\")\n"
   ]
  },
  {
   "cell_type": "code",
   "execution_count": 133,
   "id": "f4a122c8",
   "metadata": {},
   "outputs": [
    {
     "data": {
      "text/html": [
       "\n",
       "        <iframe\n",
       "            width=\"900\"\n",
       "            height=\"600\"\n",
       "            src=\"restaurant_density.html\"\n",
       "            frameborder=\"0\"\n",
       "            allowfullscreen\n",
       "            \n",
       "        ></iframe>\n",
       "        "
      ],
      "text/plain": [
       "<IPython.lib.display.IFrame at 0x1f3a99426b0>"
      ]
     },
     "execution_count": 133,
     "metadata": {},
     "output_type": "execute_result"
    }
   ],
   "source": [
    "# Embed the saved HTML map inside the notebook\n",
    "IFrame('restaurant_density.html', width=900, height=600)\n"
   ]
  },
  {
   "cell_type": "code",
   "execution_count": null,
   "id": "e7c1dc34",
   "metadata": {},
   "outputs": [],
   "source": []
  }
 ],
 "metadata": {
  "kernelspec": {
   "display_name": "Python 3",
   "language": "python",
   "name": "python3"
  },
  "language_info": {
   "codemirror_mode": {
    "name": "ipython",
    "version": 3
   },
   "file_extension": ".py",
   "mimetype": "text/x-python",
   "name": "python",
   "nbconvert_exporter": "python",
   "pygments_lexer": "ipython3",
   "version": "3.10.0"
  }
 },
 "nbformat": 4,
 "nbformat_minor": 5
}
